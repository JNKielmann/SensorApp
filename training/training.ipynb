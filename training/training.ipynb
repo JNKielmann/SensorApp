{
 "cells": [
  {
   "cell_type": "markdown",
   "metadata": {},
   "source": [
    "# Training Notebook\n",
    "Notebook enthält Code zur Modellselektion und Training für die Übungsaufgabe der Vorlesung Kontextsensitive Systeme."
   ]
  },
  {
   "cell_type": "code",
   "execution_count": 16,
   "metadata": {},
   "outputs": [],
   "source": [
    "from load_data import load_data_from_influxdb, create_data_windows, split_X_y\n",
    "\n",
    "import pandas as pd\n",
    "import numpy as np\n",
    "\n",
    "from sklearn.feature_selection import RFE\n",
    "from sklearn.metrics import f1_score, accuracy_score, confusion_matrix\n",
    "from sklearn.preprocessing import LabelEncoder\n",
    "from sklearn.model_selection import cross_val_score, KFold, LeaveOneGroupOut, GridSearchCV\n",
    "from sklearn.neighbors import KNeighborsClassifier\n",
    "from sklearn.svm import SVC\n",
    "from sklearn.tree import DecisionTreeClassifier\n",
    "from sklearn.ensemble import RandomForestClassifier\n",
    "from sklearn_porter import Porter"
   ]
  },
  {
   "cell_type": "markdown",
   "metadata": {},
   "source": [
    "Sensordaten aus InfluxDB lesen und in pandas dataframe speichern"
   ]
  },
  {
   "cell_type": "code",
   "execution_count": 17,
   "metadata": {},
   "outputs": [
    {
     "data": {
      "text/html": [
       "<div>\n",
       "<style scoped>\n",
       "    .dataframe tbody tr th:only-of-type {\n",
       "        vertical-align: middle;\n",
       "    }\n",
       "\n",
       "    .dataframe tbody tr th {\n",
       "        vertical-align: top;\n",
       "    }\n",
       "\n",
       "    .dataframe thead th {\n",
       "        text-align: right;\n",
       "    }\n",
       "</style>\n",
       "<table border=\"1\" class=\"dataframe\">\n",
       "  <thead>\n",
       "    <tr style=\"text-align: right;\">\n",
       "      <th></th>\n",
       "      <th>accel_magnitude</th>\n",
       "      <th>accelerationIncludingGravityX</th>\n",
       "      <th>accelerationIncludingGravityY</th>\n",
       "      <th>accelerationIncludingGravityZ</th>\n",
       "      <th>accelerationX</th>\n",
       "      <th>accelerationY</th>\n",
       "      <th>accelerationZ</th>\n",
       "      <th>alpha</th>\n",
       "      <th>beta</th>\n",
       "      <th>context</th>\n",
       "      <th>gamma</th>\n",
       "      <th>rotationRateAlpha</th>\n",
       "      <th>rotationRateBeta</th>\n",
       "      <th>rotationRateGamma</th>\n",
       "      <th>subject</th>\n",
       "    </tr>\n",
       "    <tr>\n",
       "      <th>time</th>\n",
       "      <th></th>\n",
       "      <th></th>\n",
       "      <th></th>\n",
       "      <th></th>\n",
       "      <th></th>\n",
       "      <th></th>\n",
       "      <th></th>\n",
       "      <th></th>\n",
       "      <th></th>\n",
       "      <th></th>\n",
       "      <th></th>\n",
       "      <th></th>\n",
       "      <th></th>\n",
       "      <th></th>\n",
       "      <th></th>\n",
       "    </tr>\n",
       "  </thead>\n",
       "  <tbody>\n",
       "    <tr>\n",
       "      <td>2019-10-08 05:30:16.062</td>\n",
       "      <td>0.174358</td>\n",
       "      <td>6.022812</td>\n",
       "      <td>-2.550041</td>\n",
       "      <td>5.568802</td>\n",
       "      <td>0.087672</td>\n",
       "      <td>0.063873</td>\n",
       "      <td>-0.100828</td>\n",
       "      <td>92.962407</td>\n",
       "      <td>-22.961549</td>\n",
       "      <td>Laufen</td>\n",
       "      <td>-82.587576</td>\n",
       "      <td>-4.723650</td>\n",
       "      <td>-0.932840</td>\n",
       "      <td>44.887348</td>\n",
       "      <td>Sub1</td>\n",
       "    </tr>\n",
       "    <tr>\n",
       "      <td>2019-10-08 05:30:16.162</td>\n",
       "      <td>2.292669</td>\n",
       "      <td>11.118669</td>\n",
       "      <td>-3.663746</td>\n",
       "      <td>-0.709390</td>\n",
       "      <td>0.537493</td>\n",
       "      <td>1.099085</td>\n",
       "      <td>-1.540338</td>\n",
       "      <td>121.915243</td>\n",
       "      <td>-46.603486</td>\n",
       "      <td>Laufen</td>\n",
       "      <td>-56.643401</td>\n",
       "      <td>4.472299</td>\n",
       "      <td>-5.210323</td>\n",
       "      <td>87.627502</td>\n",
       "      <td>Sub1</td>\n",
       "    </tr>\n",
       "    <tr>\n",
       "      <td>2019-10-08 05:30:16.263</td>\n",
       "      <td>5.734371</td>\n",
       "      <td>12.828930</td>\n",
       "      <td>-2.489791</td>\n",
       "      <td>-0.180875</td>\n",
       "      <td>1.584237</td>\n",
       "      <td>1.562521</td>\n",
       "      <td>1.260424</td>\n",
       "      <td>263.367118</td>\n",
       "      <td>-160.659473</td>\n",
       "      <td>Laufen</td>\n",
       "      <td>82.775591</td>\n",
       "      <td>-116.616136</td>\n",
       "      <td>39.370595</td>\n",
       "      <td>36.103688</td>\n",
       "      <td>Sub1</td>\n",
       "    </tr>\n",
       "    <tr>\n",
       "      <td>2019-10-08 05:30:16.363</td>\n",
       "      <td>3.608428</td>\n",
       "      <td>14.043985</td>\n",
       "      <td>-3.525084</td>\n",
       "      <td>3.092599</td>\n",
       "      <td>1.876998</td>\n",
       "      <td>-0.174040</td>\n",
       "      <td>2.873550</td>\n",
       "      <td>110.310284</td>\n",
       "      <td>-39.489416</td>\n",
       "      <td>Laufen</td>\n",
       "      <td>-58.643106</td>\n",
       "      <td>-5.008587</td>\n",
       "      <td>-2.402769</td>\n",
       "      <td>-33.415544</td>\n",
       "      <td>Sub1</td>\n",
       "    </tr>\n",
       "    <tr>\n",
       "      <td>2019-10-08 05:30:16.464</td>\n",
       "      <td>5.535369</td>\n",
       "      <td>16.649476</td>\n",
       "      <td>-6.796758</td>\n",
       "      <td>1.507437</td>\n",
       "      <td>3.448174</td>\n",
       "      <td>-4.156194</td>\n",
       "      <td>0.941564</td>\n",
       "      <td>85.736742</td>\n",
       "      <td>-10.820387</td>\n",
       "      <td>Laufen</td>\n",
       "      <td>-87.982199</td>\n",
       "      <td>73.233470</td>\n",
       "      <td>-36.368736</td>\n",
       "      <td>-89.517006</td>\n",
       "      <td>Sub1</td>\n",
       "    </tr>\n",
       "  </tbody>\n",
       "</table>\n",
       "</div>"
      ],
      "text/plain": [
       "                         accel_magnitude  accelerationIncludingGravityX  \\\n",
       "time                                                                      \n",
       "2019-10-08 05:30:16.062         0.174358                       6.022812   \n",
       "2019-10-08 05:30:16.162         2.292669                      11.118669   \n",
       "2019-10-08 05:30:16.263         5.734371                      12.828930   \n",
       "2019-10-08 05:30:16.363         3.608428                      14.043985   \n",
       "2019-10-08 05:30:16.464         5.535369                      16.649476   \n",
       "\n",
       "                         accelerationIncludingGravityY  \\\n",
       "time                                                     \n",
       "2019-10-08 05:30:16.062                      -2.550041   \n",
       "2019-10-08 05:30:16.162                      -3.663746   \n",
       "2019-10-08 05:30:16.263                      -2.489791   \n",
       "2019-10-08 05:30:16.363                      -3.525084   \n",
       "2019-10-08 05:30:16.464                      -6.796758   \n",
       "\n",
       "                         accelerationIncludingGravityZ  accelerationX  \\\n",
       "time                                                                    \n",
       "2019-10-08 05:30:16.062                       5.568802       0.087672   \n",
       "2019-10-08 05:30:16.162                      -0.709390       0.537493   \n",
       "2019-10-08 05:30:16.263                      -0.180875       1.584237   \n",
       "2019-10-08 05:30:16.363                       3.092599       1.876998   \n",
       "2019-10-08 05:30:16.464                       1.507437       3.448174   \n",
       "\n",
       "                         accelerationY  accelerationZ       alpha        beta  \\\n",
       "time                                                                            \n",
       "2019-10-08 05:30:16.062       0.063873      -0.100828   92.962407  -22.961549   \n",
       "2019-10-08 05:30:16.162       1.099085      -1.540338  121.915243  -46.603486   \n",
       "2019-10-08 05:30:16.263       1.562521       1.260424  263.367118 -160.659473   \n",
       "2019-10-08 05:30:16.363      -0.174040       2.873550  110.310284  -39.489416   \n",
       "2019-10-08 05:30:16.464      -4.156194       0.941564   85.736742  -10.820387   \n",
       "\n",
       "                        context      gamma  rotationRateAlpha  \\\n",
       "time                                                            \n",
       "2019-10-08 05:30:16.062  Laufen -82.587576          -4.723650   \n",
       "2019-10-08 05:30:16.162  Laufen -56.643401           4.472299   \n",
       "2019-10-08 05:30:16.263  Laufen  82.775591        -116.616136   \n",
       "2019-10-08 05:30:16.363  Laufen -58.643106          -5.008587   \n",
       "2019-10-08 05:30:16.464  Laufen -87.982199          73.233470   \n",
       "\n",
       "                         rotationRateBeta  rotationRateGamma subject  \n",
       "time                                                                  \n",
       "2019-10-08 05:30:16.062         -0.932840          44.887348    Sub1  \n",
       "2019-10-08 05:30:16.162         -5.210323          87.627502    Sub1  \n",
       "2019-10-08 05:30:16.263         39.370595          36.103688    Sub1  \n",
       "2019-10-08 05:30:16.363         -2.402769         -33.415544    Sub1  \n",
       "2019-10-08 05:30:16.464        -36.368736         -89.517006    Sub1  "
      ]
     },
     "execution_count": 17,
     "metadata": {},
     "output_type": "execute_result"
    }
   ],
   "source": [
    "sensor_data = load_data_from_influxdb()\n",
    "sensor_data.head()"
   ]
  },
  {
   "cell_type": "markdown",
   "metadata": {},
   "source": [
    "Daten in Fenster von 2 Sekunden aufteilen und einfache Features berechnen (min, max, mean, std)"
   ]
  },
  {
   "cell_type": "code",
   "execution_count": 18,
   "metadata": {},
   "outputs": [
    {
     "data": {
      "text/plain": [
       "(126, 54)"
      ]
     },
     "execution_count": 18,
     "metadata": {},
     "output_type": "execute_result"
    }
   ],
   "source": [
    "data_windows = create_data_windows(sensor_data, '2000ms')\n",
    "data_windows.head()\n",
    "data_windows.shape"
   ]
  },
  {
   "cell_type": "code",
   "execution_count": 19,
   "metadata": {},
   "outputs": [],
   "source": [
    "data_windows_train = data_windows[~data_windows[\"subject\"].isin([\"Sub1\", \"Sub2\"])]\n",
    "data_windows_test = data_windows[data_windows[\"subject\"].isin([\"Sub1\", \"Sub2\"])]"
   ]
  },
  {
   "cell_type": "markdown",
   "metadata": {},
   "source": [
    "Funktion zur Modellevaluation definieren"
   ]
  },
  {
   "cell_type": "code",
   "execution_count": 20,
   "metadata": {},
   "outputs": [],
   "source": [
    "def print_confusion_matrix(matrix, labels):\n",
    "    print(\" \" * 7, end='')\n",
    "    for label in labels:\n",
    "        print(\"{:^10}\".format(label), end='')\n",
    "    print()\n",
    "    for i, label in enumerate(labels):\n",
    "        print(\"{:>7}\".format(label), end='')\n",
    "        for j in range(matrix.shape[1]):\n",
    "            print(\"{:^10}\".format(matrix[i,j]), end='')\n",
    "        print()\n",
    "\n",
    "def evaluate_classifier(X, y, split_indices, classifier, classifier_name):\n",
    "    accuracy_scores = []\n",
    "    confusion_matrix_sum = np.zeros((3,3))\n",
    "\n",
    "    for (train_index, test_index) in split_indices:\n",
    "        X_train, y_train = X[train_index], y[train_index]\n",
    "        X_test, y_test = X[test_index], y[test_index]\n",
    "        classifier.fit(X_train, y_train)\n",
    "        y_pred = classifier.predict(X_test)\n",
    "        accuracy_scores.append(accuracy_score(y_test, y_pred))\n",
    "        confusion_matrix_sum += confusion_matrix(y_test, y_pred, labels=[0,1,2])\n",
    "    print(\"Results for {} Classifier:\".format(classifier_name))\n",
    "    print(\"Accuracy mean:\", np.mean(accuracy_scores))\n",
    "    print(\"Accuracy std:\", np.std(accuracy_scores))\n",
    "    print(\"Confusion Matrix:\")\n",
    "    print_confusion_matrix(confusion_matrix_sum, [\"Sitzen\", \"Laufen\", \"Fahrrad\"])\n",
    "    print()\n",
    "    print()"
   ]
  },
  {
   "cell_type": "markdown",
   "metadata": {},
   "source": [
    "Daten in Merkmale X und Label y aufteilen"
   ]
  },
  {
   "cell_type": "code",
   "execution_count": 21,
   "metadata": {},
   "outputs": [],
   "source": [
    "X_train, y_train = split_X_y(data_windows_train)\n",
    "X_test, y_test = split_X_y(data_windows_test)"
   ]
  },
  {
   "cell_type": "markdown",
   "metadata": {},
   "source": [
    "4 verschiedene Klassifikationsalgorithmen ausprobieren"
   ]
  },
  {
   "cell_type": "code",
   "execution_count": 22,
   "metadata": {},
   "outputs": [],
   "source": [
    "classifiers = [\n",
    "    (\"KNN\", KNeighborsClassifier(10)),\n",
    "    (\"SVM\", SVC(kernel=\"linear\", C=0.025, random_state=0)),\n",
    "    (\"Decision Tree\", DecisionTreeClassifier(max_depth=10, random_state=0)),\n",
    "    (\"Random Forest\", RandomForestClassifier(max_depth=5, n_estimators=10, random_state=0))\n",
    "]"
   ]
  },
  {
   "cell_type": "markdown",
   "metadata": {},
   "source": [
    "Evaluation mit 10-Fold cross validation"
   ]
  },
  {
   "cell_type": "code",
   "execution_count": 23,
   "metadata": {},
   "outputs": [
    {
     "name": "stdout",
     "output_type": "stream",
     "text": [
      "Results for KNN Classifier:\n",
      "Accuracy mean: 0.9291666666666666\n",
      "Accuracy std: 0.07643937725453896\n",
      "Confusion Matrix:\n",
      "         Sitzen    Laufen   Fahrrad  \n",
      " Sitzen   58.0      1.0       0.0    \n",
      " Laufen   2.0       23.0      0.0    \n",
      "Fahrrad   0.0       3.0       0.0    \n",
      "\n",
      "\n",
      "Results for SVM Classifier:\n",
      "Accuracy mean: 0.9888888888888889\n",
      "Accuracy std: 0.03333333333333335\n",
      "Confusion Matrix:\n",
      "         Sitzen    Laufen   Fahrrad  \n",
      " Sitzen   58.0      1.0       0.0    \n",
      " Laufen   0.0       25.0      0.0    \n",
      "Fahrrad   0.0       0.0       3.0    \n",
      "\n",
      "\n",
      "Results for Decision Tree Classifier:\n",
      "Accuracy mean: 0.976388888888889\n",
      "Accuracy std: 0.047324236215002285\n",
      "Confusion Matrix:\n",
      "         Sitzen    Laufen   Fahrrad  \n",
      " Sitzen   59.0      0.0       0.0    \n",
      " Laufen   1.0       24.0      0.0    \n",
      "Fahrrad   0.0       1.0       2.0    \n",
      "\n",
      "\n",
      "Results for Random Forest Classifier:\n",
      "Accuracy mean: 0.976388888888889\n",
      "Accuracy std: 0.047324236215002285\n",
      "Confusion Matrix:\n",
      "         Sitzen    Laufen   Fahrrad  \n",
      " Sitzen   59.0      0.0       0.0    \n",
      " Laufen   0.0       25.0      0.0    \n",
      "Fahrrad   0.0       2.0       1.0    \n",
      "\n",
      "\n"
     ]
    }
   ],
   "source": [
    "for cls_name, cls in classifiers:\n",
    "    split = KFold(10, shuffle=True, random_state=0).split(X_train)\n",
    "    evaluate_classifier(X_train, y_train, split, cls, cls_name)"
   ]
  },
  {
   "cell_type": "markdown",
   "metadata": {},
   "source": [
    "Evaluation mit leave-one-subject-out corss validation"
   ]
  },
  {
   "cell_type": "code",
   "execution_count": 24,
   "metadata": {},
   "outputs": [
    {
     "name": "stdout",
     "output_type": "stream",
     "text": [
      "Results for KNN Classifier:\n",
      "Accuracy mean: 0.9105555555555556\n",
      "Accuracy std: 0.060254091608417396\n",
      "Confusion Matrix:\n",
      "         Sitzen    Laufen   Fahrrad  \n",
      " Sitzen   57.0      2.0       0.0    \n",
      " Laufen   2.0       23.0      0.0    \n",
      "Fahrrad   0.0       3.0       0.0    \n",
      "\n",
      "\n",
      "Results for SVM Classifier:\n",
      "Accuracy mean: 0.9444444444444444\n",
      "Accuracy std: 0.06804138174397716\n",
      "Confusion Matrix:\n",
      "         Sitzen    Laufen   Fahrrad  \n",
      " Sitzen   58.0      1.0       0.0    \n",
      " Laufen   0.0       25.0      0.0    \n",
      "Fahrrad   0.0       3.0       0.0    \n",
      "\n",
      "\n",
      "Results for Decision Tree Classifier:\n",
      "Accuracy mean: 0.9305555555555556\n",
      "Accuracy std: 0.12028130608117203\n",
      "Confusion Matrix:\n",
      "         Sitzen    Laufen   Fahrrad  \n",
      " Sitzen   59.0      0.0       0.0    \n",
      " Laufen   2.0       23.0      0.0    \n",
      "Fahrrad   0.0       3.0       0.0    \n",
      "\n",
      "\n",
      "Results for Random Forest Classifier:\n",
      "Accuracy mean: 0.9583333333333334\n",
      "Accuracy std: 0.0721687836487032\n",
      "Confusion Matrix:\n",
      "         Sitzen    Laufen   Fahrrad  \n",
      " Sitzen   59.0      0.0       0.0    \n",
      " Laufen   0.0       25.0      0.0    \n",
      "Fahrrad   0.0       3.0       0.0    \n",
      "\n",
      "\n"
     ]
    }
   ],
   "source": [
    "for cls_name, cls in classifiers:\n",
    "    split = LeaveOneGroupOut().split(X_train, groups=data_windows_train[\"subject\"].to_numpy())\n",
    "    evaluate_classifier(X_train, y_train, split, cls, cls_name)"
   ]
  },
  {
   "cell_type": "markdown",
   "metadata": {},
   "source": [
    "Ergebnis: Random Forest erzieht die besten Ergebnisse  \n",
    "Daher jetzt suche nach besten Hyperparametern"
   ]
  },
  {
   "cell_type": "code",
   "execution_count": 10,
   "metadata": {},
   "outputs": [
    {
     "name": "stdout",
     "output_type": "stream",
     "text": [
      "Fitting 5 folds for each of 190 candidates, totalling 950 fits\n"
     ]
    },
    {
     "name": "stderr",
     "output_type": "stream",
     "text": [
      "/Users/d062356/miniconda3/envs/sensorApp/lib/python3.7/site-packages/sklearn/model_selection/_split.py:657: Warning: The least populated class in y has only 3 members, which is too few. The minimum number of members in any class cannot be less than n_splits=5.\n",
      "  % (min_groups, self.n_splits)), Warning)\n",
      "[Parallel(n_jobs=4)]: Using backend LokyBackend with 4 concurrent workers.\n",
      "[Parallel(n_jobs=4)]: Done 401 tasks      | elapsed:    2.3s\n"
     ]
    },
    {
     "name": "stdout",
     "output_type": "stream",
     "text": [
      "Best Random Forest Model:\n",
      "max_depth: 2\n",
      "n_estimators: 5\n",
      "Train Accuracy: 1.0\n",
      "Test Accuracy: 0.9743589743589743\n"
     ]
    },
    {
     "name": "stderr",
     "output_type": "stream",
     "text": [
      "[Parallel(n_jobs=4)]: Done 950 out of 950 | elapsed:    4.3s finished\n"
     ]
    }
   ],
   "source": [
    "classifier = RandomForestClassifier(random_state=0)\n",
    "parameters = {\n",
    "    \"max_depth\": range(1,11), \n",
    "    \"n_estimators\": range(2,21)\n",
    "}\n",
    "gs = GridSearchCV(classifier, parameters, cv=5, iid=False, verbose=1, n_jobs=4)\n",
    "gs.fit(X_train, y_train)\n",
    "best_random_forest = gs.best_estimator_\n",
    "print(\"Best Random Forest Model:\")\n",
    "print(\"max_depth: {}\".format(best_random_forest.get_params()[\"max_depth\"]))\n",
    "print(\"n_estimators: {}\".format(best_random_forest.get_params()[\"n_estimators\"]))\n",
    "print(\"Train Accuracy: {}\".format(best_random_forest.score(X_train, y_train)))\n",
    "print(\"Test Accuracy: {}\".format(best_random_forest.score(X_test, y_test)))"
   ]
  },
  {
   "cell_type": "markdown",
   "metadata": {},
   "source": [
    "Recursive Feature Elimination ausprobieren, um Dimensionalität der Eingabe zu reduzieren"
   ]
  },
  {
   "cell_type": "code",
   "execution_count": 11,
   "metadata": {},
   "outputs": [
    {
     "data": {
      "text/plain": [
       "['accelerationX_std',\n",
       " 'accelerationY_min',\n",
       " 'accelerationY_mean',\n",
       " 'accelerationZ_min',\n",
       " 'rotationRateAlpha_min',\n",
       " 'rotationRateAlpha_mean',\n",
       " 'rotationRateAlpha_std',\n",
       " 'rotationRateBeta_max',\n",
       " 'rotationRateGamma_max',\n",
       " 'rotationRateGamma_std']"
      ]
     },
     "execution_count": 11,
     "metadata": {},
     "output_type": "execute_result"
    }
   ],
   "source": [
    "classifier = RandomForestClassifier(max_depth=2, n_estimators=13, random_state=0)\n",
    "rfe = RFE(classifier,10,step=1)\n",
    "rfe.fit(X_train, y_train)\n",
    "column_names = data_windows.drop([\"context\", \"subject\"], axis=1).columns\n",
    "columns = [column_name for support, column_name in zip(rfe.support_,column_names) if support]\n",
    "columns"
   ]
  },
  {
   "cell_type": "markdown",
   "metadata": {},
   "source": [
    "Bestes Modell als JavaScript exportieren"
   ]
  },
  {
   "cell_type": "code",
   "execution_count": 12,
   "metadata": {},
   "outputs": [],
   "source": [
    "porter = Porter(best_random_forest, language='js')\n",
    "export = porter.export(embed_data=True)\n",
    "f = open(\"random_forest.js\", \"w\")\n",
    "f.write(export)\n",
    "f.close()"
   ]
  },
  {
   "cell_type": "code",
   "execution_count": null,
   "metadata": {},
   "outputs": [],
   "source": []
  }
 ],
 "metadata": {
  "kernelspec": {
   "display_name": "Python 3",
   "language": "python",
   "name": "python3"
  },
  "language_info": {
   "codemirror_mode": {
    "name": "ipython",
    "version": 3
   },
   "file_extension": ".py",
   "mimetype": "text/x-python",
   "name": "python",
   "nbconvert_exporter": "python",
   "pygments_lexer": "ipython3",
   "version": "3.7.4"
  }
 },
 "nbformat": 4,
 "nbformat_minor": 2
}
