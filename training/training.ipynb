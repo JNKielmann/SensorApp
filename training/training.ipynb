{
 "cells": [
  {
   "cell_type": "markdown",
   "metadata": {},
   "source": [
    "# Training Notebook\n",
    "Notebook enthält Code zur Modellselektion und Training für die Übungsaufgabe der Vorlesung Kontextsensitive Systeme."
   ]
  },
  {
   "cell_type": "code",
   "execution_count": 10,
   "metadata": {},
   "outputs": [],
   "source": [
    "from load_data import load_data_from_influxdb, create_data_windows, split_X_y\n",
    "\n",
    "import pandas as pd\n",
    "import numpy as np\n",
    "\n",
    "from sklearn.feature_selection import RFE\n",
    "from sklearn.metrics import f1_score, accuracy_score, confusion_matrix\n",
    "from sklearn.preprocessing import LabelEncoder\n",
    "from sklearn.model_selection import cross_val_score, KFold, LeaveOneGroupOut, GridSearchCV\n",
    "from sklearn.neighbors import KNeighborsClassifier\n",
    "from sklearn.svm import SVC\n",
    "from sklearn.tree import DecisionTreeClassifier\n",
    "from sklearn.ensemble import RandomForestClassifier\n",
    "from sklearn_porter import Porter"
   ]
  },
  {
   "cell_type": "markdown",
   "metadata": {},
   "source": [
    "Sensordaten aus InfluxDB lesen und in pandas dataframe speichern"
   ]
  },
  {
   "cell_type": "code",
   "execution_count": 11,
   "metadata": {},
   "outputs": [
    {
     "data": {
      "text/html": [
       "<div>\n",
       "<style scoped>\n",
       "    .dataframe tbody tr th:only-of-type {\n",
       "        vertical-align: middle;\n",
       "    }\n",
       "\n",
       "    .dataframe tbody tr th {\n",
       "        vertical-align: top;\n",
       "    }\n",
       "\n",
       "    .dataframe thead th {\n",
       "        text-align: right;\n",
       "    }\n",
       "</style>\n",
       "<table border=\"1\" class=\"dataframe\">\n",
       "  <thead>\n",
       "    <tr style=\"text-align: right;\">\n",
       "      <th></th>\n",
       "      <th>accel_magnitude</th>\n",
       "      <th>accelerationIncludingGravityX</th>\n",
       "      <th>accelerationIncludingGravityY</th>\n",
       "      <th>accelerationIncludingGravityZ</th>\n",
       "      <th>accelerationX</th>\n",
       "      <th>accelerationY</th>\n",
       "      <th>accelerationZ</th>\n",
       "      <th>alpha</th>\n",
       "      <th>beta</th>\n",
       "      <th>context</th>\n",
       "      <th>gamma</th>\n",
       "      <th>rotationRateAlpha</th>\n",
       "      <th>rotationRateBeta</th>\n",
       "      <th>rotationRateGamma</th>\n",
       "      <th>subject</th>\n",
       "    </tr>\n",
       "    <tr>\n",
       "      <th>time</th>\n",
       "      <th></th>\n",
       "      <th></th>\n",
       "      <th></th>\n",
       "      <th></th>\n",
       "      <th></th>\n",
       "      <th></th>\n",
       "      <th></th>\n",
       "      <th></th>\n",
       "      <th></th>\n",
       "      <th></th>\n",
       "      <th></th>\n",
       "      <th></th>\n",
       "      <th></th>\n",
       "      <th></th>\n",
       "      <th></th>\n",
       "    </tr>\n",
       "  </thead>\n",
       "  <tbody>\n",
       "    <tr>\n",
       "      <td>2019-10-11 07:21:55.310</td>\n",
       "      <td>2.137617</td>\n",
       "      <td>6.727186</td>\n",
       "      <td>-3.571412</td>\n",
       "      <td>-1.611477</td>\n",
       "      <td>1.592222</td>\n",
       "      <td>-0.855081</td>\n",
       "      <td>0.874850</td>\n",
       "      <td>166.498367</td>\n",
       "      <td>-141.032441</td>\n",
       "      <td>Laufen</td>\n",
       "      <td>59.328550</td>\n",
       "      <td>-2.721634</td>\n",
       "      <td>-122.218491</td>\n",
       "      <td>137.415077</td>\n",
       "      <td>Sub1</td>\n",
       "    </tr>\n",
       "    <tr>\n",
       "      <td>2019-10-11 07:21:55.408</td>\n",
       "      <td>7.204752</td>\n",
       "      <td>13.063213</td>\n",
       "      <td>-8.336831</td>\n",
       "      <td>0.455985</td>\n",
       "      <td>6.119370</td>\n",
       "      <td>-2.398366</td>\n",
       "      <td>2.310062</td>\n",
       "      <td>182.140161</td>\n",
       "      <td>-140.776227</td>\n",
       "      <td>Laufen</td>\n",
       "      <td>75.212277</td>\n",
       "      <td>-94.826815</td>\n",
       "      <td>-66.347152</td>\n",
       "      <td>223.238121</td>\n",
       "      <td>Sub1</td>\n",
       "    </tr>\n",
       "    <tr>\n",
       "      <td>2019-10-11 07:21:55.514</td>\n",
       "      <td>13.743447</td>\n",
       "      <td>20.764571</td>\n",
       "      <td>-11.685181</td>\n",
       "      <td>1.381943</td>\n",
       "      <td>12.578234</td>\n",
       "      <td>-1.701651</td>\n",
       "      <td>4.626536</td>\n",
       "      <td>166.315054</td>\n",
       "      <td>-131.606657</td>\n",
       "      <td>Laufen</td>\n",
       "      <td>68.579714</td>\n",
       "      <td>-197.857991</td>\n",
       "      <td>-25.504385</td>\n",
       "      <td>259.233680</td>\n",
       "      <td>Sub1</td>\n",
       "    </tr>\n",
       "    <tr>\n",
       "      <td>2019-10-11 07:21:55.609</td>\n",
       "      <td>15.249874</td>\n",
       "      <td>19.491302</td>\n",
       "      <td>-8.650409</td>\n",
       "      <td>5.045149</td>\n",
       "      <td>11.269765</td>\n",
       "      <td>2.904983</td>\n",
       "      <td>9.645309</td>\n",
       "      <td>140.867588</td>\n",
       "      <td>-129.190825</td>\n",
       "      <td>Laufen</td>\n",
       "      <td>60.759184</td>\n",
       "      <td>-242.591754</td>\n",
       "      <td>102.758997</td>\n",
       "      <td>201.188079</td>\n",
       "      <td>Sub1</td>\n",
       "    </tr>\n",
       "    <tr>\n",
       "      <td>2019-10-11 07:21:55.709</td>\n",
       "      <td>14.255147</td>\n",
       "      <td>11.730299</td>\n",
       "      <td>-5.042175</td>\n",
       "      <td>8.092641</td>\n",
       "      <td>3.360819</td>\n",
       "      <td>5.594839</td>\n",
       "      <td>12.474462</td>\n",
       "      <td>121.069633</td>\n",
       "      <td>-131.611198</td>\n",
       "      <td>Laufen</td>\n",
       "      <td>62.400513</td>\n",
       "      <td>-157.908493</td>\n",
       "      <td>62.966491</td>\n",
       "      <td>96.534442</td>\n",
       "      <td>Sub1</td>\n",
       "    </tr>\n",
       "  </tbody>\n",
       "</table>\n",
       "</div>"
      ],
      "text/plain": [
       "                         accel_magnitude  accelerationIncludingGravityX  \\\n",
       "time                                                                      \n",
       "2019-10-11 07:21:55.310         2.137617                       6.727186   \n",
       "2019-10-11 07:21:55.408         7.204752                      13.063213   \n",
       "2019-10-11 07:21:55.514        13.743447                      20.764571   \n",
       "2019-10-11 07:21:55.609        15.249874                      19.491302   \n",
       "2019-10-11 07:21:55.709        14.255147                      11.730299   \n",
       "\n",
       "                         accelerationIncludingGravityY  \\\n",
       "time                                                     \n",
       "2019-10-11 07:21:55.310                      -3.571412   \n",
       "2019-10-11 07:21:55.408                      -8.336831   \n",
       "2019-10-11 07:21:55.514                     -11.685181   \n",
       "2019-10-11 07:21:55.609                      -8.650409   \n",
       "2019-10-11 07:21:55.709                      -5.042175   \n",
       "\n",
       "                         accelerationIncludingGravityZ  accelerationX  \\\n",
       "time                                                                    \n",
       "2019-10-11 07:21:55.310                      -1.611477       1.592222   \n",
       "2019-10-11 07:21:55.408                       0.455985       6.119370   \n",
       "2019-10-11 07:21:55.514                       1.381943      12.578234   \n",
       "2019-10-11 07:21:55.609                       5.045149      11.269765   \n",
       "2019-10-11 07:21:55.709                       8.092641       3.360819   \n",
       "\n",
       "                         accelerationY  accelerationZ       alpha        beta  \\\n",
       "time                                                                            \n",
       "2019-10-11 07:21:55.310      -0.855081       0.874850  166.498367 -141.032441   \n",
       "2019-10-11 07:21:55.408      -2.398366       2.310062  182.140161 -140.776227   \n",
       "2019-10-11 07:21:55.514      -1.701651       4.626536  166.315054 -131.606657   \n",
       "2019-10-11 07:21:55.609       2.904983       9.645309  140.867588 -129.190825   \n",
       "2019-10-11 07:21:55.709       5.594839      12.474462  121.069633 -131.611198   \n",
       "\n",
       "                        context      gamma  rotationRateAlpha  \\\n",
       "time                                                            \n",
       "2019-10-11 07:21:55.310  Laufen  59.328550          -2.721634   \n",
       "2019-10-11 07:21:55.408  Laufen  75.212277         -94.826815   \n",
       "2019-10-11 07:21:55.514  Laufen  68.579714        -197.857991   \n",
       "2019-10-11 07:21:55.609  Laufen  60.759184        -242.591754   \n",
       "2019-10-11 07:21:55.709  Laufen  62.400513        -157.908493   \n",
       "\n",
       "                         rotationRateBeta  rotationRateGamma subject  \n",
       "time                                                                  \n",
       "2019-10-11 07:21:55.310       -122.218491         137.415077    Sub1  \n",
       "2019-10-11 07:21:55.408        -66.347152         223.238121    Sub1  \n",
       "2019-10-11 07:21:55.514        -25.504385         259.233680    Sub1  \n",
       "2019-10-11 07:21:55.609        102.758997         201.188079    Sub1  \n",
       "2019-10-11 07:21:55.709         62.966491          96.534442    Sub1  "
      ]
     },
     "execution_count": 11,
     "metadata": {},
     "output_type": "execute_result"
    }
   ],
   "source": [
    "sensor_data = load_data_from_influxdb()\n",
    "sensor_data.head()"
   ]
  },
  {
   "cell_type": "markdown",
   "metadata": {},
   "source": [
    "Daten in Fenster von 2 Sekunden aufteilen und einfache Features berechnen (min, max, mean, std)"
   ]
  },
  {
   "cell_type": "code",
   "execution_count": 12,
   "metadata": {},
   "outputs": [
    {
     "data": {
      "text/plain": [
       "(494, 54)"
      ]
     },
     "execution_count": 12,
     "metadata": {},
     "output_type": "execute_result"
    }
   ],
   "source": [
    "data_windows = create_data_windows(sensor_data, '2000ms')\n",
    "data_windows.head()\n",
    "data_windows.shape"
   ]
  },
  {
   "cell_type": "code",
   "execution_count": 13,
   "metadata": {},
   "outputs": [],
   "source": [
    "data_windows_train = data_windows[~data_windows[\"subject\"].isin([\"Sub1\", \"Sub2\"])]\n",
    "data_windows_test = data_windows[data_windows[\"subject\"].isin([\"Sub1\", \"Sub2\"])]"
   ]
  },
  {
   "cell_type": "markdown",
   "metadata": {},
   "source": [
    "Funktion zur Modellevaluation definieren"
   ]
  },
  {
   "cell_type": "code",
   "execution_count": 14,
   "metadata": {},
   "outputs": [],
   "source": [
    "def print_confusion_matrix(matrix, labels):\n",
    "    print(\" \" * 7, end='')\n",
    "    for label in labels:\n",
    "        print(\"{:^10}\".format(label), end='')\n",
    "    print()\n",
    "    for i, label in enumerate(labels):\n",
    "        print(\"{:>7}\".format(label), end='')\n",
    "        for j in range(matrix.shape[1]):\n",
    "            print(\"{:^10}\".format(matrix[i,j]), end='')\n",
    "        print()\n",
    "\n",
    "def evaluate_classifier(X, y, split_indices, classifier, classifier_name):\n",
    "    accuracy_scores = []\n",
    "    confusion_matrix_sum = np.zeros((3,3))\n",
    "\n",
    "    for (train_index, test_index) in split_indices:\n",
    "        X_train, y_train = X[train_index], y[train_index]\n",
    "        X_test, y_test = X[test_index], y[test_index]\n",
    "        classifier.fit(X_train, y_train)\n",
    "        y_pred = classifier.predict(X_test)\n",
    "        accuracy_scores.append(accuracy_score(y_test, y_pred))\n",
    "        confusion_matrix_sum += confusion_matrix(y_test, y_pred, labels=[0,1,2])\n",
    "    print(\"Results for {} Classifier:\".format(classifier_name))\n",
    "    print(\"Accuracy mean:\", np.mean(accuracy_scores))\n",
    "    print(\"Accuracy std:\", np.std(accuracy_scores))\n",
    "    print(\"Confusion Matrix:\")\n",
    "    print_confusion_matrix(confusion_matrix_sum, [\"Sitzen\", \"Laufen\", \"Fahrrad\"])\n",
    "    print()\n",
    "    print()"
   ]
  },
  {
   "cell_type": "markdown",
   "metadata": {},
   "source": [
    "Daten in Merkmale X und Label y aufteilen"
   ]
  },
  {
   "cell_type": "code",
   "execution_count": 15,
   "metadata": {},
   "outputs": [],
   "source": [
    "X_train, y_train = split_X_y(data_windows_train)\n",
    "X_test, y_test = split_X_y(data_windows_test)"
   ]
  },
  {
   "cell_type": "markdown",
   "metadata": {},
   "source": [
    "4 verschiedene Klassifikationsalgorithmen ausprobieren"
   ]
  },
  {
   "cell_type": "code",
   "execution_count": 16,
   "metadata": {},
   "outputs": [],
   "source": [
    "classifiers = [\n",
    "    (\"KNN\", KNeighborsClassifier(10)),\n",
    "    (\"SVM\", SVC(kernel=\"linear\", C=0.025, random_state=1)),\n",
    "    (\"Decision Tree\", DecisionTreeClassifier(max_depth=10, random_state=1)),\n",
    "    (\"Random Forest\", RandomForestClassifier(max_depth=5, n_estimators=10, random_state=1))\n",
    "]"
   ]
  },
  {
   "cell_type": "markdown",
   "metadata": {},
   "source": [
    "Evaluation mit 10-Fold cross validation"
   ]
  },
  {
   "cell_type": "code",
   "execution_count": 17,
   "metadata": {},
   "outputs": [
    {
     "name": "stdout",
     "output_type": "stream",
     "text": [
      "Results for KNN Classifier:\n",
      "Accuracy mean: 0.9625177809388334\n",
      "Accuracy std: 0.024467088717289844\n",
      "Confusion Matrix:\n",
      "         Sitzen    Laufen   Fahrrad  \n",
      " Sitzen  102.0      10.0      0.0    \n",
      " Laufen   1.0      117.0      0.0    \n",
      "Fahrrad   2.0       1.0      142.0   \n",
      "\n",
      "\n",
      "Results for SVM Classifier:\n",
      "Accuracy mean: 0.9678520625889048\n",
      "Accuracy std: 0.020116332952945713\n",
      "Confusion Matrix:\n",
      "         Sitzen    Laufen   Fahrrad  \n",
      " Sitzen  108.0      2.0       2.0    \n",
      " Laufen   1.0      115.0      2.0    \n",
      "Fahrrad   3.0       2.0      140.0   \n",
      "\n",
      "\n",
      "Results for Decision Tree Classifier:\n",
      "Accuracy mean: 0.9866998577524895\n",
      "Accuracy std: 0.013302424097392618\n",
      "Confusion Matrix:\n",
      "         Sitzen    Laufen   Fahrrad  \n",
      " Sitzen  111.0      1.0       0.0    \n",
      " Laufen   1.0      116.0      1.0    \n",
      "Fahrrad   1.0       1.0      143.0   \n",
      "\n",
      "\n",
      "Results for Random Forest Classifier:\n",
      "Accuracy mean: 0.9920341394025606\n",
      "Accuracy std: 0.012169438732282534\n",
      "Confusion Matrix:\n",
      "         Sitzen    Laufen   Fahrrad  \n",
      " Sitzen  112.0      0.0       0.0    \n",
      " Laufen   0.0      118.0      0.0    \n",
      "Fahrrad   2.0       1.0      142.0   \n",
      "\n",
      "\n"
     ]
    }
   ],
   "source": [
    "for cls_name, cls in classifiers:\n",
    "    split = KFold(10, shuffle=True, random_state=0).split(X_train)\n",
    "    evaluate_classifier(X_train, y_train, split, cls, cls_name)"
   ]
  },
  {
   "cell_type": "markdown",
   "metadata": {},
   "source": [
    "Evaluation mit leave-one-subject-out corss validation"
   ]
  },
  {
   "cell_type": "code",
   "execution_count": 18,
   "metadata": {},
   "outputs": [
    {
     "name": "stdout",
     "output_type": "stream",
     "text": [
      "Results for KNN Classifier:\n",
      "Accuracy mean: 0.9420374334827213\n",
      "Accuracy std: 0.0352982529053315\n",
      "Confusion Matrix:\n",
      "         Sitzen    Laufen   Fahrrad  \n",
      " Sitzen  102.0      10.0      0.0    \n",
      " Laufen   8.0      110.0      0.0    \n",
      "Fahrrad   2.0       1.0      142.0   \n",
      "\n",
      "\n",
      "Results for SVM Classifier:\n",
      "Accuracy mean: 0.8205363601189029\n",
      "Accuracy std: 0.1486634631793104\n",
      "Confusion Matrix:\n",
      "         Sitzen    Laufen   Fahrrad  \n",
      " Sitzen  105.0      2.0       5.0    \n",
      " Laufen   14.0      77.0      27.0   \n",
      "Fahrrad   7.0       11.0     127.0   \n",
      "\n",
      "\n",
      "Results for Decision Tree Classifier:\n",
      "Accuracy mean: 0.9834643174428122\n",
      "Accuracy std: 0.009440025640068045\n",
      "Confusion Matrix:\n",
      "         Sitzen    Laufen   Fahrrad  \n",
      " Sitzen  111.0      1.0       0.0    \n",
      " Laufen   1.0      115.0      2.0    \n",
      "Fahrrad   1.0       1.0      143.0   \n",
      "\n",
      "\n",
      "Results for Random Forest Classifier:\n",
      "Accuracy mean: 0.9911965811965812\n",
      "Accuracy std: 0.01471600292884478\n",
      "Confusion Matrix:\n",
      "         Sitzen    Laufen   Fahrrad  \n",
      " Sitzen  112.0      0.0       0.0    \n",
      " Laufen   0.0      118.0      0.0    \n",
      "Fahrrad   2.0       1.0      142.0   \n",
      "\n",
      "\n"
     ]
    }
   ],
   "source": [
    "for cls_name, cls in classifiers:\n",
    "    split = LeaveOneGroupOut().split(X_train, groups=data_windows_train[\"subject\"].to_numpy())\n",
    "    evaluate_classifier(X_train, y_train, split, cls, cls_name)"
   ]
  },
  {
   "cell_type": "markdown",
   "metadata": {},
   "source": [
    "Ergebnis: Random Forest erzieht die besten Ergebnisse  \n",
    "Daher jetzt suche nach besten Hyperparametern"
   ]
  },
  {
   "cell_type": "code",
   "execution_count": 19,
   "metadata": {},
   "outputs": [
    {
     "name": "stdout",
     "output_type": "stream",
     "text": [
      "Fitting 5 folds for each of 190 candidates, totalling 950 fits\n"
     ]
    },
    {
     "name": "stderr",
     "output_type": "stream",
     "text": [
      "[Parallel(n_jobs=4)]: Using backend LokyBackend with 4 concurrent workers.\n",
      "[Parallel(n_jobs=4)]: Done 427 tasks      | elapsed:    2.5s\n"
     ]
    },
    {
     "name": "stdout",
     "output_type": "stream",
     "text": [
      "Best Random Forest Model:\n",
      "max_depth: 3\n",
      "n_estimators: 5\n",
      "Train Accuracy: 0.9946666666666667\n",
      "Test Accuracy: 1.0\n"
     ]
    },
    {
     "name": "stderr",
     "output_type": "stream",
     "text": [
      "[Parallel(n_jobs=4)]: Done 950 out of 950 | elapsed:    4.8s finished\n"
     ]
    }
   ],
   "source": [
    "classifier = RandomForestClassifier(random_state=1)\n",
    "parameters = {\n",
    "    \"max_depth\": range(1,11), \n",
    "    \"n_estimators\": range(2,21)\n",
    "}\n",
    "gs = GridSearchCV(classifier, parameters, cv=5, iid=False, verbose=1, n_jobs=4)\n",
    "gs.fit(X_train, y_train)\n",
    "best_random_forest = gs.best_estimator_\n",
    "print(\"Best Random Forest Model:\")\n",
    "print(\"max_depth: {}\".format(best_random_forest.get_params()[\"max_depth\"]))\n",
    "print(\"n_estimators: {}\".format(best_random_forest.get_params()[\"n_estimators\"]))\n",
    "print(\"Train Accuracy: {}\".format(best_random_forest.score(X_train, y_train)))\n",
    "print(\"Test Accuracy: {}\".format(best_random_forest.score(X_test, y_test)))"
   ]
  },
  {
   "cell_type": "markdown",
   "metadata": {},
   "source": [
    "Recursive Feature Elimination ausprobieren, um Dimensionalität der Eingabe zu reduzieren"
   ]
  },
  {
   "cell_type": "code",
   "execution_count": 20,
   "metadata": {},
   "outputs": [
    {
     "data": {
      "text/plain": [
       "['accel_magnitude_max',\n",
       " 'accel_magnitude_mean',\n",
       " 'accelerationIncludingGravityY_min',\n",
       " 'accelerationIncludingGravityY_std',\n",
       " 'accelerationX_std',\n",
       " 'accelerationY_min',\n",
       " 'accelerationY_std',\n",
       " 'accelerationZ_min',\n",
       " 'accelerationZ_mean',\n",
       " 'accelerationZ_std']"
      ]
     },
     "execution_count": 20,
     "metadata": {},
     "output_type": "execute_result"
    }
   ],
   "source": [
    "classifier = RandomForestClassifier(max_depth=2, n_estimators=13, random_state=1)\n",
    "rfe = RFE(classifier,10,step=1)\n",
    "rfe.fit(X_train, y_train)\n",
    "column_names = data_windows.drop([\"context\", \"subject\"], axis=1).columns\n",
    "columns = [column_name for support, column_name in zip(rfe.support_,column_names) if support]\n",
    "columns"
   ]
  },
  {
   "cell_type": "markdown",
   "metadata": {},
   "source": [
    "Bestes Modell als JavaScript exportieren"
   ]
  },
  {
   "cell_type": "code",
   "execution_count": 21,
   "metadata": {},
   "outputs": [],
   "source": [
    "porter = Porter(best_random_forest, language='js')\n",
    "export = porter.export(embed_data=True)\n",
    "f = open(\"random_forest.js\", \"w\")\n",
    "f.write(export)\n",
    "f.close()"
   ]
  }
 ],
 "metadata": {
  "kernelspec": {
   "display_name": "Python 3",
   "language": "python",
   "name": "python3"
  },
  "language_info": {
   "codemirror_mode": {
    "name": "ipython",
    "version": 3
   },
   "file_extension": ".py",
   "mimetype": "text/x-python",
   "name": "python",
   "nbconvert_exporter": "python",
   "pygments_lexer": "ipython3",
   "version": "3.7.4"
  }
 },
 "nbformat": 4,
 "nbformat_minor": 2
}
